{
  "nbformat": 4,
  "nbformat_minor": 0,
  "metadata": {
    "colab": {
      "provenance": []
    },
    "kernelspec": {
      "name": "python3",
      "display_name": "Python 3"
    },
    "language_info": {
      "name": "python"
    }
  },
  "cells": [
    {
      "cell_type": "code",
      "execution_count": null,
      "metadata": {
        "id": "idUGBPnUx4PH"
      },
      "outputs": [],
      "source": [
        "import os\n",
        "import pandas as pd\n",
        "import time\n"
      ]
    },
    {
      "cell_type": "code",
      "source": [
        "# --- Configuración de rutas ---\n",
        "ROOT_DIR = '/content/drive/MyDrive/Datasets/datalake'\n",
        "INPUT_DIR = os.path.join(ROOT_DIR, 'datalake_inputs')\n",
        "OUTPUT_DIR = os.path.join(ROOT_DIR, 'datalake_outputs')\n",
        "INPUT_FILE_PATH = os.path.join(INPUT_DIR, 'netflix_titles.csv')\n",
        "OUTPUT_FILE_PATH = os.path.join(OUTPUT_DIR, 'netflix_titles.csv')"
      ],
      "metadata": {
        "id": "Rl0AoT7ZzNfX"
      },
      "execution_count": null,
      "outputs": []
    },
    {
      "cell_type": "code",
      "source": [
        "# Crear directorios si no existen\n",
        "os.makedirs(INPUT_DIR, exist_ok=True)\n",
        "os.makedirs(OUTPUT_DIR, exist_ok=True)"
      ],
      "metadata": {
        "id": "yD9T7ZOLUCpl"
      },
      "execution_count": null,
      "outputs": []
    },
    {
      "cell_type": "code",
      "source": [
        "def validar_existencia_archivo(path):\n",
        "    \"\"\"Valida si el archivo existe.\"\"\"\n",
        "    if not os.path.exists(path):\n",
        "        print(f\"El archivo no existe: {path}\")\n",
        "        return False\n",
        "\n",
        "    return True"
      ],
      "metadata": {
        "id": "fBpbwu4IC5hD"
      },
      "execution_count": null,
      "outputs": []
    },
    {
      "cell_type": "code",
      "source": [
        "def limpiar_directorio(path):\n",
        "    \"\"\"Elimina todos los archivos y carpetas dentro de un directorio.\"\"\"\n",
        "    for item in os.listdir(path):\n",
        "        ruta = os.path.join(path, item)\n",
        "        if os.path.isfile(ruta):\n",
        "            os.remove(ruta)\n",
        "        elif os.path.isdir(ruta):\n",
        "            import shutil\n",
        "            shutil.rmtree(ruta)\n",
        "    print(f\"Directorio limpiado: {path}\")"
      ],
      "metadata": {
        "id": "AojooPkLR9v9"
      },
      "execution_count": null,
      "outputs": []
    },
    {
      "cell_type": "code",
      "source": [
        "def leer_y_guardar_csv(file_path, output_path):\n",
        "    \"\"\"Mueve el archivo CSV de una ruta a otra.\"\"\"\n",
        "    df_csv = pd.read_csv(file_path)\n",
        "    df_csv.to_csv(output_path, index=False)\n",
        "    print(f\"Guardado: {output_path}\")"
      ],
      "metadata": {
        "id": "c9pRygCXyWvT"
      },
      "execution_count": null,
      "outputs": []
    },
    {
      "cell_type": "code",
      "source": [
        "def main():\n",
        "    print(f\"Directorio Input: {INPUT_DIR}\")\n",
        "    print(f\"Directorio Output: {OUTPUT_DIR}\")\n",
        "    print(f\"Archivo Input: {INPUT_FILE_PATH}\")\n",
        "    print(f\"Archivo Output: {OUTPUT_FILE_PATH}\")\n",
        "\n",
        "    if not validar_existencia_archivo(INPUT_FILE_PATH):\n",
        "      return\n",
        "\n",
        "    # Limpieza previa (opcional)\n",
        "    limpiar_directorio(OUTPUT_DIR)\n",
        "\n",
        "    # Tiempo de espera, para comprobar limpieza de directorio\n",
        "    time.sleep(5)\n",
        "\n",
        "    # Proceso de transformación\n",
        "    leer_y_guardar_csv(INPUT_FILE_PATH, OUTPUT_FILE_PATH) # GITHUB_PATH\n",
        "\n",
        "    print(\"Proceso finalizado con éxito.\")"
      ],
      "metadata": {
        "id": "V_OJyW1z8a2-"
      },
      "execution_count": null,
      "outputs": []
    },
    {
      "cell_type": "code",
      "source": [
        "# Sólo se ejecuta si el archivo se ejecuta directamente\n",
        "if __name__ == \"__main__\":\n",
        "    main()"
      ],
      "metadata": {
        "colab": {
          "base_uri": "https://localhost:8080/"
        },
        "id": "C1QU-EfKyWsb",
        "outputId": "cd158d6e-409b-4d45-b0ae-77c226b651b1"
      },
      "execution_count": null,
      "outputs": [
        {
          "output_type": "stream",
          "name": "stdout",
          "text": [
            "Directorio Input: /content/drive/MyDrive/Datasets/datalake/datalake_inputs\n",
            "Directorio Output: /content/drive/MyDrive/Datasets/datalake/datalake_outputs\n",
            "Archivo Input: /content/drive/MyDrive/Datasets/datalake/datalake_inputs/netflix_titles.csv\n",
            "Archivo Output: /content/drive/MyDrive/Datasets/datalake/datalake_outputs/netflix_titles.csv\n",
            "Directorio limpiado: /content/drive/MyDrive/Datasets/datalake/datalake_outputs\n",
            "Guardado: /content/drive/MyDrive/Datasets/datalake/datalake_outputs/netflix_titles.csv\n",
            "Proceso finalizado con éxito.\n"
          ]
        }
      ]
    }
  ]
}