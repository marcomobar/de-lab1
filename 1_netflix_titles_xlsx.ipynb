{
  "cells": [
    {
      "cell_type": "code",
      "execution_count": 1,
      "metadata": {
        "id": "idUGBPnUx4PH"
      },
      "outputs": [],
      "source": [
        "import os\n",
        "import pandas as pd\n",
        "import time\n"
      ]
    },
    {
      "cell_type": "code",
      "execution_count": null,
      "metadata": {
        "id": "Rl0AoT7ZzNfX"
      },
      "outputs": [],
      "source": [
        "# --- Configuración de rutas ---\n",
        "ROOT_DIR = '/content/drive/MyDrive/Datasets/datalake'\n",
        "INPUT_DIR = os.path.join(ROOT_DIR, 'datalake_inputs')\n",
        "OUTPUT_DIR = os.path.join(ROOT_DIR, 'datalake_outputs')\n",
        "EXCEL_FILE = os.path.join(INPUT_DIR, 'netflix_titles.xlsx')"
      ]
    },
    {
      "cell_type": "code",
      "execution_count": null,
      "metadata": {
        "id": "yD9T7ZOLUCpl"
      },
      "outputs": [],
      "source": [
        "# Crear directorios si no existen\n",
        "os.makedirs(INPUT_DIR, exist_ok=True)\n",
        "os.makedirs(OUTPUT_DIR, exist_ok=True)"
      ]
    },
    {
      "cell_type": "code",
      "execution_count": null,
      "metadata": {
        "id": "fBpbwu4IC5hD"
      },
      "outputs": [],
      "source": [
        "def validar_existencia_archivo(path):\n",
        "    \"\"\"Valida si el archivo existe.\"\"\"\n",
        "    if not os.path.exists(path):\n",
        "        print(f\"El archivo no existe: {path}\")\n",
        "        return False\n",
        "\n",
        "    return True"
      ]
    },
    {
      "cell_type": "code",
      "execution_count": null,
      "metadata": {
        "id": "AojooPkLR9v9"
      },
      "outputs": [],
      "source": [
        "def limpiar_directorio(path):\n",
        "    \"\"\"Elimina todos los archivos y carpetas dentro de un directorio.\"\"\"\n",
        "    for item in os.listdir(path):\n",
        "        ruta = os.path.join(path, item)\n",
        "        if os.path.isfile(ruta):\n",
        "            os.remove(ruta)\n",
        "        elif os.path.isdir(ruta):\n",
        "            import shutil\n",
        "            shutil.rmtree(ruta)\n",
        "    print(f\"Directorio limpiado: {path}\")"
      ]
    },
    {
      "cell_type": "code",
      "execution_count": null,
      "metadata": {
        "id": "c9pRygCXyWvT"
      },
      "outputs": [],
      "source": [
        "def extraer_hojas_excel_a_csv(excel_path, output_dir):\n",
        "    \"\"\"Lee cada hoja de un Excel y la guarda como archivo CSV.\"\"\"\n",
        "    excel = pd.ExcelFile(excel_path)\n",
        "    print(f\"Hojas encontradas: {excel.sheet_names}\")\n",
        "\n",
        "    for sheet_name in excel.sheet_names:\n",
        "        df = pd.read_excel(excel, sheet_name=sheet_name)\n",
        "        output_path = os.path.join(output_dir, f\"{sheet_name}.csv\")\n",
        "        df.to_csv(output_path, index=False)\n",
        "        print(f\"Guardado: {output_path}\")"
      ]
    },
    {
      "cell_type": "code",
      "execution_count": null,
      "metadata": {
        "id": "V_OJyW1z8a2-"
      },
      "outputs": [],
      "source": [
        "def main():\n",
        "    print(f\"Input: {INPUT_DIR}\")\n",
        "    print(f\"Output: {OUTPUT_DIR}\")\n",
        "    print(f\"Archivo Excel: {EXCEL_FILE}\")\n",
        "\n",
        "    if not validar_existencia_archivo(EXCEL_FILE):\n",
        "      return\n",
        "\n",
        "    # Limpieza previa (opcional)\n",
        "    limpiar_directorio(OUTPUT_DIR)\n",
        "\n",
        "    # Tiempo de espera, para comprobar limpieza de directorio\n",
        "    time.sleep(5)\n",
        "\n",
        "    # Proceso de transformación\n",
        "    extraer_hojas_excel_a_csv(EXCEL_FILE, OUTPUT_DIR) # GITHUB_PATH\n",
        "\n",
        "    print(\"Proceso finalizado con éxito.\")"
      ]
    },
    {
      "cell_type": "code",
      "execution_count": null,
      "metadata": {
        "colab": {
          "base_uri": "https://localhost:8080/"
        },
        "id": "C1QU-EfKyWsb",
        "outputId": "3c94c8ed-9861-4829-d7ae-3b72fc3779fe"
      },
      "outputs": [
        {
          "name": "stdout",
          "output_type": "stream",
          "text": [
            "Input: /content/drive/MyDrive/Datasets/datalake/datalake_inputs\n",
            "Output: /content/drive/MyDrive/Datasets/datalake/datalake_outputs\n",
            "Archivo Excel: /content/drive/MyDrive/Datasets/datalake/datalake_inputs/netflix_titles.xlsx\n",
            "Directorio limpiado: /content/drive/MyDrive/Datasets/datalake/datalake_outputs\n",
            "Hojas encontradas: ['netflix_titles', 'netflix_titles_directors', 'netflix_titles_countries', 'netflix_titles_cast', 'netflix_titles_category']\n",
            "Guardado: /content/drive/MyDrive/Datasets/datalake/datalake_outputs/netflix_titles.csv\n",
            "Guardado: /content/drive/MyDrive/Datasets/datalake/datalake_outputs/netflix_titles_directors.csv\n",
            "Guardado: /content/drive/MyDrive/Datasets/datalake/datalake_outputs/netflix_titles_countries.csv\n",
            "Guardado: /content/drive/MyDrive/Datasets/datalake/datalake_outputs/netflix_titles_cast.csv\n",
            "Guardado: /content/drive/MyDrive/Datasets/datalake/datalake_outputs/netflix_titles_category.csv\n",
            "Proceso finalizado con éxito.\n"
          ]
        }
      ],
      "source": [
        "# Sólo se ejecuta si el archivo se ejecuta directamente (buena práctica)\n",
        "if __name__ == \"__main__\":\n",
        "    main()"
      ]
    }
  ],
  "metadata": {
    "colab": {
      "provenance": []
    },
    "kernelspec": {
      "display_name": ".venv",
      "language": "python",
      "name": "python3"
    },
    "language_info": {
      "codemirror_mode": {
        "name": "ipython",
        "version": 3
      },
      "file_extension": ".py",
      "mimetype": "text/x-python",
      "name": "python",
      "nbconvert_exporter": "python",
      "pygments_lexer": "ipython3",
      "version": "3.10.16"
    }
  },
  "nbformat": 4,
  "nbformat_minor": 0
}
