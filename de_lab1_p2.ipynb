{
 "cells": [
  {
   "cell_type": "markdown",
   "metadata": {},
   "source": [
    "https://www.kaggle.com/datasets/arianazmoudeh/airbnbopendata"
   ]
  },
  {
   "cell_type": "code",
   "execution_count": 4,
   "metadata": {
    "id": "idUGBPnUx4PH"
   },
   "outputs": [],
   "source": [
    "import requests\n",
    "import sys\n",
    "import os\n",
    "import pandas as pd\n",
    "import time\n",
    "import logging\n",
    "import shutil"
   ]
  },
  {
   "cell_type": "code",
   "execution_count": 5,
   "metadata": {
    "id": "b-U671azRUdp"
   },
   "outputs": [],
   "source": [
    "# Zona horaria de Perú\n",
    "os.environ['TZ'] = 'America/Lima'\n",
    "time.tzset()  # Solo funciona en sistemas tipo Unix (como Colab o Linux)"
   ]
  },
  {
   "cell_type": "code",
   "execution_count": 6,
   "metadata": {
    "id": "xqpZfVuQPXHp"
   },
   "outputs": [],
   "source": [
    "# Reset y configurar logging para que funcione en Colab / Jupyter\n",
    "for handler in logging.root.handlers[:]:\n",
    "    logging.root.removeHandler(handler)\n",
    "\n",
    "logging.basicConfig(\n",
    "    level=logging.INFO,\n",
    "    format=\"%(asctime)s - %(levelname)s - %(message)s\",\n",
    "    handlers=[logging.StreamHandler(sys.stdout)]\n",
    ")"
   ]
  },
  {
   "cell_type": "code",
   "execution_count": null,
   "metadata": {
    "id": "XL-Qi5vbGhIr"
   },
   "outputs": [],
   "source": [
    "# Constantes\n",
    "GITHUB_ROOT_PATH = 'https://github.com/marcomobar/datasets/raw/refs/heads/main'\n",
    "# ROOT_DIR = '/content/drive/MyDrive/Datasets/datalake'\n",
    "ROOT_DIR = ''\n",
    "OUTPUT_DIR = os.path.join(ROOT_DIR, 'datalake_outputs')"
   ]
  },
  {
   "cell_type": "code",
   "execution_count": 8,
   "metadata": {
    "id": "rUo88QNMBduF"
   },
   "outputs": [],
   "source": [
    "def get_config_file(file_name: str) -> dict[str:str]:\n",
    "    \"\"\"\n",
    "    Obtiene las rutas del archivo de configuración.\n",
    "    \n",
    "    Parámetros:\n",
    "    - file_name (str): Nombre del archivo a obtener.\n",
    "    \n",
    "    Retorna:\n",
    "    - dict[str,str]: Diccionario con claves \"GITHUB_FILE\", \"GITHUB_FILE_PATH\" y \"OUTPUT_FILE_PATH\".\n",
    "    \"\"\"\n",
    "    GITHUB_FILE_PATH = os.path.join(GITHUB_ROOT_PATH, file_name)  #(1) Construye la ruta completa del archivo en el repositorio de GitHub.\n",
    "    OUTPUT_FILE_PATH = os.path.join(OUTPUT_DIR, file_name)  #(2) Construye la ruta local de salida donde se guardará el archivo.\n",
    "\n",
    "    return {\n",
    "        'GITHUB_FILE': file_name,\n",
    "        'GITHUB_FILE_PATH': GITHUB_FILE_PATH,\n",
    "        'OUTPUT_FILE_PATH': OUTPUT_FILE_PATH\n",
    "    }"
   ]
  },
  {
   "cell_type": "code",
   "execution_count": 9,
   "metadata": {
    "id": "fBpbwu4IC5hD"
   },
   "outputs": [],
   "source": [
    "def validar_existencia_archivo(path: str) -> bool:\n",
    "    \"\"\"\n",
    "    Verifica si existe el archivo en la ruta remota.\n",
    "    \n",
    "    Parámetros:\n",
    "    - path (str): URL o ruta del archivo a validar.\n",
    "    \n",
    "    Retorna:\n",
    "    - bool: True si el archivo existe (status 200), False en caso contrario.\n",
    "    \"\"\"\n",
    "    response = requests.head(path, allow_redirects=True)  #(3) Realiza una petición HEAD a la URL para verificar existencia del recurso.\n",
    "    if response.status_code != 200:\n",
    "        logging.warning(f\"El archivo no existe en el repositorio: {path}\")  #(4) Registra una advertencia indicando que el archivo no existe en el repositorio.\n",
    "        return False\n",
    "    return True"
   ]
  },
  {
   "cell_type": "code",
   "execution_count": 10,
   "metadata": {
    "id": "AojooPkLR9v9"
   },
   "outputs": [],
   "source": [
    "def limpiar_directorio(path: str) -> None:\n",
    "    \"\"\"\n",
    "    Elimina todos los archivos y subdirectorios de un directorio. Si no existe, lo crea.\n",
    "    \n",
    "    Parámetros:\n",
    "    - path (str): Ruta del directorio a limpiar.\n",
    "    \n",
    "    Retorna:\n",
    "    - None: No retorna valor.\n",
    "    \"\"\"\n",
    "    if not os.path.exists(path):  #(5) Comprueba si el directorio de salida no existe.\n",
    "        os.makedirs(path)  #(6) Crea el directorio, incluyendo carpetas intermedias.\n",
    "        return\n",
    "\n",
    "    for item in os.listdir(path):  #(7) Itera sobre cada elemento en el directorio.\n",
    "        ruta = os.path.join(path, item)  #(8) Construye la ruta completa de cada elemento dentro del directorio.\n",
    "        if os.path.isfile(ruta):  #(9) Verifica si la ruta corresponde a un archivo regular.\n",
    "            os.remove(ruta)  #(10) Elimina el archivo encontrado.\n",
    "        elif os.path.isdir(ruta):  #(11) Verifica si la ruta corresponde a un subdirectorio.\n",
    "            shutil.rmtree(ruta)  #(12) Elimina el directorio y todo su contenido de forma recursiva.\n",
    "    logging.info(f\"Directorio limpiado: {path}\")"
   ]
  },
  {
   "cell_type": "code",
   "execution_count": 11,
   "metadata": {
    "id": "c9pRygCXyWvT"
   },
   "outputs": [],
   "source": [
    "def leer_y_guardar_csv_en_datalake(file_path: str, output_path: str) -> None:\n",
    "    \"\"\"\n",
    "    Lee un CSV y lo guarda en la ruta de salida.\n",
    "    \n",
    "    Parámetros:\n",
    "    - file_path (str): Ruta del archivo CSV de entrada.\n",
    "    - output_path (str): Ruta donde se guardará el CSV resultante.\n",
    "    \n",
    "    Retorna:\n",
    "    - None: No retorna valor.\n",
    "    \"\"\"\n",
    "    try:\n",
    "        df_csv = pd.read_csv(file_path)  #(13) Lee el CSV en un DataFrame de pandas.\n",
    "        df_csv.to_csv(output_path, index=False)  #(14) Guarda el DataFrame en CSV sin índices.\n",
    "        logging.info(f\"Guardado exitosamente: {output_path}\")\n",
    "    except Exception as e:  #(15) Captura y registra cualquier excepción ocurrida al procesar el CSV.\n",
    "        logging.error(f\"Error al procesar archivo {file_path}: {e}\")\n",
    "        raise"
   ]
  },
  {
   "cell_type": "code",
   "execution_count": 12,
   "metadata": {
    "id": "V_OJyW1z8a2-"
   },
   "outputs": [],
   "source": [
    "def procesar_archivo_desde_github(file_name: str = 'dummy.csv') -> None:\n",
    "    \"\"\"\n",
    "    Procesa un archivo desde GitHub: valida existencia, descarga y guarda.\n",
    "    \n",
    "    Parámetros:\n",
    "    - file_name (str): Nombre del archivo CSV en el repositorio GitHub.\n",
    "    \n",
    "    Retorna:\n",
    "    - None: No retorna valor.\n",
    "    \"\"\"\n",
    "    logging.info(f\"{'='*20} PROCESANDO: {file_name} {'='*20}\")\n",
    "\n",
    "    config_file = get_config_file(file_name)  #(16) Obtiene configuración de rutas para el nombre de archivo dado.\n",
    "    GITHUB_FILE_PATH = config_file['GITHUB_FILE_PATH']  #(17) Extrae la ruta de GitHub del diccionario de configuración.\n",
    "    OUTPUT_FILE_PATH = config_file['OUTPUT_FILE_PATH']  #(18) Extrae la ruta de salida local del diccionario de configuración.\n",
    "\n",
    "    # Crear directorio si no existe\n",
    "    os.makedirs(OUTPUT_DIR, exist_ok=True)  #(19) Crea el directorio de salida si no existe.\n",
    "\n",
    "    if not validar_existencia_archivo(GITHUB_FILE_PATH):\n",
    "        logging.warning(f\"Archivo no encontrado: {GITHUB_FILE_PATH}\")\n",
    "        return\n",
    "\n",
    "    leer_y_guardar_csv_en_datalake(GITHUB_FILE_PATH, OUTPUT_FILE_PATH)  #(20) Procesa el CSV remoto y lo guarda en local.\n",
    "\n",
    "    logging.info(f\"{'='*20} FINALIZADO: {file_name} {'='*20}\")"
   ]
  },
  {
   "cell_type": "code",
   "execution_count": 13,
   "metadata": {
    "id": "HvmX-7yBE36s"
   },
   "outputs": [],
   "source": [
    "def main():\n",
    "    \"\"\"\n",
    "    Punto de entrada principal: limpia directorio, pausa y procesa archivos listados.\n",
    "    \n",
    "    Retorna:\n",
    "    - None: No retorna valor.\n",
    "    \"\"\"\n",
    "    limpiar_directorio(OUTPUT_DIR)  #(21) Limpia el directorio de salida antes de iniciar nuevos procesos.\n",
    "    time.sleep(5)  # Solo para demostración visual, puede eliminarse en producción\n",
    "\n",
    "    archivos = [\n",
    "        'Airbnb_Open_Data_25M.csv'\n",
    "    ]  #(22) Define la lista de archivos CSV a procesar.\n",
    "\n",
    "    for archivo in archivos:  #(23) Itera sobre cada nombre de archivo en la lista.\n",
    "        procesar_archivo_desde_github(archivo)  #(24) Llama a la función de procesamiento para cada archivo."
   ]
  },
  {
   "cell_type": "code",
   "execution_count": 14,
   "metadata": {
    "colab": {
     "base_uri": "https://localhost:8080/"
    },
    "id": "C1QU-EfKyWsb",
    "outputId": "d284f91d-87af-4b1d-d4bc-5718ff2d58d4"
   },
   "outputs": [
    {
     "name": "stdout",
     "output_type": "stream",
     "text": [
      "2025-04-17 15:06:55,026 - INFO - Directorio limpiado: datalake_outputs\n",
      "2025-04-17 15:07:00,031 - INFO - ==================== PROCESANDO: Airbnb_Open_Data_25M.csv ====================\n"
     ]
    },
    {
     "name": "stderr",
     "output_type": "stream",
     "text": [
      "/var/folders/t_/qntbphvs7tqccq0dmrcml8sm0000gn/T/ipykernel_39111/775702360.py:13: DtypeWarning: Columns (11,24,25) have mixed types. Specify dtype option on import or set low_memory=False.\n",
      "  df_csv = pd.read_csv(file_path)  #(13) Lee el CSV en un DataFrame de pandas.\n"
     ]
    },
    {
     "name": "stdout",
     "output_type": "stream",
     "text": [
      "2025-04-17 15:07:11,244 - INFO - Guardado exitosamente: datalake_outputs/Airbnb_Open_Data_25M.csv\n",
      "2025-04-17 15:07:11,246 - INFO - ==================== FINALIZADO: Airbnb_Open_Data_25M.csv ====================\n"
     ]
    }
   ],
   "source": [
    "# Sólo se ejecuta si el archivo se ejecuta directamente\n",
    "if __name__ == \"__main__\":  #(25) Ejecuta main() al ejecutar el script directamente.\n",
    "    main()"
   ]
  }
 ],
 "metadata": {
  "colab": {
   "provenance": []
  },
  "kernelspec": {
   "display_name": ".venv",
   "language": "python",
   "name": "python3"
  },
  "language_info": {
   "codemirror_mode": {
    "name": "ipython",
    "version": 3
   },
   "file_extension": ".py",
   "mimetype": "text/x-python",
   "name": "python",
   "nbconvert_exporter": "python",
   "pygments_lexer": "ipython3",
   "version": "3.10.16"
  }
 },
 "nbformat": 4,
 "nbformat_minor": 0
}
