{
  "nbformat": 4,
  "nbformat_minor": 0,
  "metadata": {
    "colab": {
      "provenance": []
    },
    "kernelspec": {
      "name": "python3",
      "display_name": "Python 3"
    },
    "language_info": {
      "name": "python"
    }
  },
  "cells": [
    {
      "cell_type": "code",
      "execution_count": 1,
      "metadata": {
        "id": "Y37x9atA8EG5"
      },
      "outputs": [],
      "source": [
        "import pandas as pd"
      ]
    },
    {
      "cell_type": "code",
      "source": [
        "df_csv = pd.read_csv('/content/drive/MyDrive/Datasets/datalake/datalake_inputs/netflix_titles.csv')"
      ],
      "metadata": {
        "id": "Hgf3mjTA8P5I"
      },
      "execution_count": 2,
      "outputs": []
    },
    {
      "cell_type": "code",
      "source": [
        "df_csv.to_csv('/content/drive/MyDrive/Datasets/datalake/datalake_outputs/netflix_titles.csv', index=False)"
      ],
      "metadata": {
        "id": "wrtNPRqa8P1w"
      },
      "execution_count": 3,
      "outputs": []
    },
    {
      "cell_type": "code",
      "source": [
        "\"\"\"\n",
        "Pasos:\n",
        "1. Definir Parametros\n",
        "2. Crear carpetas si no existen\n",
        "3. Validar si existe el archivo\n",
        "4. Limpiar directorio\n",
        "5. Leer y guardar datos\n",
        "\"\"\""
      ],
      "metadata": {
        "id": "1eKpjnU78Pyo"
      },
      "execution_count": null,
      "outputs": []
    },
    {
      "cell_type": "code",
      "source": [
        "def main():\n",
        "  print('hello')"
      ],
      "metadata": {
        "id": "M27rNRYu8Pvk"
      },
      "execution_count": 4,
      "outputs": []
    },
    {
      "cell_type": "code",
      "source": [
        "main()"
      ],
      "metadata": {
        "colab": {
          "base_uri": "https://localhost:8080/"
        },
        "id": "xnEYfoMs-RfP",
        "outputId": "9a674fbc-2e9c-4fc3-abf6-7ead68a1f8a3"
      },
      "execution_count": 6,
      "outputs": [
        {
          "output_type": "stream",
          "name": "stdout",
          "text": [
            "hello\n"
          ]
        }
      ]
    },
    {
      "cell_type": "code",
      "source": [
        "if __name__ == \"__main__\":\n",
        "    main()"
      ],
      "metadata": {
        "colab": {
          "base_uri": "https://localhost:8080/"
        },
        "id": "rsLEuFZ7-VYc",
        "outputId": "aa1f8d54-975b-471b-b92f-2c57d1dce654"
      },
      "execution_count": 7,
      "outputs": [
        {
          "output_type": "stream",
          "name": "stdout",
          "text": [
            "hello\n"
          ]
        }
      ]
    }
  ]
}